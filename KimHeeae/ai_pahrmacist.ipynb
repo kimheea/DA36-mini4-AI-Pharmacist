{
 "cells": [
  {
   "cell_type": "code",
   "id": "initial_id",
   "metadata": {
    "collapsed": true,
    "ExecuteTime": {
     "end_time": "2024-12-20T00:27:46.360063Z",
     "start_time": "2024-12-20T00:27:46.322756Z"
    }
   },
   "source": [
    "from dotenv import load_dotenv\n",
    "load_dotenv()\n",
    "\n",
    "load_dotenv(override=True)"
   ],
   "outputs": [
    {
     "data": {
      "text/plain": [
       "True"
      ]
     },
     "execution_count": 4,
     "metadata": {},
     "output_type": "execute_result"
    }
   ],
   "execution_count": 4
  },
  {
   "metadata": {
    "ExecuteTime": {
     "end_time": "2024-12-20T02:30:16.242184Z",
     "start_time": "2024-12-20T02:30:15.268237Z"
    }
   },
   "cell_type": "code",
   "source": [
    "from langchain_community.document_loaders import CSVLoader\n",
    "from langchain_community.document_loaders import PyPDFLoader\n",
    "\n",
    "dur_pregnant = CSVLoader('./data/DUR_pregnant.csv')\n",
    "\n",
    "dur_pregnant_docs = dur_pregnant.load()"
   ],
   "id": "bc2abd6cd2b99bcc",
   "outputs": [],
   "execution_count": 136
  },
  {
   "metadata": {
    "ExecuteTime": {
     "end_time": "2024-12-20T02:19:16.997108Z",
     "start_time": "2024-12-20T02:19:15.990210Z"
    }
   },
   "cell_type": "code",
   "outputs": [],
   "execution_count": 2,
   "source": [
    "from langchain_openai.embeddings import OpenAIEmbeddings\n",
    "\n",
    "embeddings = OpenAIEmbeddings(\n",
    "    model = 'text-embedding-3-small'\n",
    ")"
   ],
   "id": "fa9c01b5fa4be587"
  },
  {
   "metadata": {
    "ExecuteTime": {
     "end_time": "2024-12-20T02:20:28.067939Z",
     "start_time": "2024-12-20T02:20:28.063182Z"
    }
   },
   "cell_type": "code",
   "outputs": [
    {
     "name": "stdout",
     "output_type": "stream",
     "text": [
      "dur-pregnancy\n",
      "dur-pregnancy-ns\n",
      "pcsk_5TkRik_EzGTnXtpN1c26rjgbrhySAUqgAAHhR9QEmje4vwZkMoEKiADwUKrPjkEAQwfsTs\n"
     ]
    }
   ],
   "execution_count": 5,
   "source": [
    "import os\n",
    "PINECONE_INDEX_NAME = os.getenv('PINECONE_INDEX_NAME')\n",
    "PINECONE_NAMESPACE = os.getenv('PINECONE_NAMESPACE')\n",
    "PINECONE_API_KEY = os.getenv('PINECONE_API_KEY')\n",
    "\n",
    "print(PINECONE_INDEX_NAME)\n",
    "print(PINECONE_NAMESPACE)\n",
    "print(PINECONE_API_KEY)"
   ],
   "id": "c6f1de2b366118b"
  },
  {
   "metadata": {
    "ExecuteTime": {
     "end_time": "2024-12-20T02:20:37.433023Z",
     "start_time": "2024-12-20T02:20:37.429154Z"
    }
   },
   "cell_type": "code",
   "outputs": [],
   "execution_count": 7,
   "source": [
    "def similarity_search_pregnant(query):\n",
    "    embeddings = OpenAIEmbeddings(model='text-embedding-3-small')\n",
    "    vector_db = PineconeVectorStore(\n",
    "        embedding=embeddings,\n",
    "        index_name=PINECONE_INDEX_NAME,\n",
    "        namespace=PINECONE_NAMESPACE,\n",
    "        pinecone_api_key=PINECONE_API_KEY\n",
    "    )\n",
    "    \n",
    "    result = vector_db.similarity_search(\n",
    "        query,\n",
    "        k=3,\n",
    "        namespace=PINECONE_NAMESPACE,\n",
    "    )\n",
    "    \n",
    "    return{\n",
    "        \"query\": query,\n",
    "        \"content\" : '\\n'.join([doc.page_content for doc in result]),\n",
    "    }"
   ],
   "id": "cfd8c5763456fb89"
  },
  {
   "metadata": {
    "ExecuteTime": {
     "end_time": "2024-12-20T02:28:00.770146Z",
     "start_time": "2024-12-20T02:28:00.766219Z"
    }
   },
   "cell_type": "code",
   "outputs": [],
   "execution_count": 15,
   "source": [
    "simi_chain = RunnableLambda(similarity_search_pregnant) | prompt\n",
    "\n",
    "# print(simi_chain.invoke('씨앤유캡슐'))"
   ],
   "id": "32cc961d0bd6a12b"
  }
 ],
 "metadata": {
  "kernelspec": {
   "display_name": "Python 3",
   "language": "python",
   "name": "python3"
  },
  "language_info": {
   "codemirror_mode": {
    "name": "ipython",
    "version": 2
   },
   "file_extension": ".py",
   "mimetype": "text/x-python",
   "name": "python",
   "nbconvert_exporter": "python",
   "pygments_lexer": "ipython2",
   "version": "2.7.6"
  }
 },
 "nbformat": 4,
 "nbformat_minor": 5
}
