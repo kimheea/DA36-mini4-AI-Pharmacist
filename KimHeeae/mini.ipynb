{
 "cells": [
  {
   "metadata": {
    "collapsed": true,
    "ExecuteTime": {
     "end_time": "2024-12-20T02:35:06.228679Z",
     "start_time": "2024-12-20T02:35:05.384932Z"
    }
   },
   "cell_type": "code",
   "source": [
    "from dotenv import load_dotenv\n",
    "from langchain.chains.question_answering.map_rerank_prompt import output_parser\n",
    "from langchain_core.prompts import ChatPromptTemplate\n",
    "from langchain_core.runnables import RunnableLambda\n",
    "from langchain_pinecone import PineconeVectorStore\n",
    "\n",
    "load_dotenv()"
   ],
   "id": "df698809f5328d0e",
   "outputs": [
    {
     "data": {
      "text/plain": [
       "True"
      ]
     },
     "execution_count": 2,
     "metadata": {},
     "output_type": "execute_result"
    }
   ],
   "execution_count": 2
  },
  {
   "metadata": {},
   "cell_type": "markdown",
   "source": "## 파일로드",
   "id": "5374fce9262b3180"
  },
  {
   "metadata": {
    "ExecuteTime": {
     "end_time": "2024-12-20T02:35:07.284126Z",
     "start_time": "2024-12-20T02:35:07.249985Z"
    }
   },
   "cell_type": "code",
   "source": [
    "from langchain_community.document_loaders import CSVLoader\n",
    "\n",
    "dur_con_med = CSVLoader('./DUR_con_med.csv')\n",
    "dur_age = CSVLoader('./DUR_age.csv')\n",
    "dur_old = CSVLoader('./DUR_older.csv')\n",
    "dur_pregnant = CSVLoader('./DUR_pregnant.csv')"
   ],
   "id": "bbddd7c0d82bf128",
   "outputs": [],
   "execution_count": 3
  },
  {
   "metadata": {
    "ExecuteTime": {
     "end_time": "2024-12-20T02:35:09.266961Z",
     "start_time": "2024-12-20T02:35:08.667268Z"
    }
   },
   "cell_type": "code",
   "source": [
    "con_med_docs = dur_con_med.load()\n",
    "age_docs = dur_age.load()\n",
    "old_docs = dur_old.load()\n",
    "pregnant_docs = dur_pregnant.load()"
   ],
   "id": "49c7e2448153c68d",
   "outputs": [
    {
     "ename": "RuntimeError",
     "evalue": "Error loading ./DUR_con_med.csv",
     "output_type": "error",
     "traceback": [
      "\u001B[1;31m---------------------------------------------------------------------------\u001B[0m",
      "\u001B[1;31mFileNotFoundError\u001B[0m                         Traceback (most recent call last)",
      "File \u001B[1;32m~\\miniconda3\\envs\\dl_nlp_env\\Lib\\site-packages\\langchain_community\\document_loaders\\csv_loader.py:134\u001B[0m, in \u001B[0;36mCSVLoader.lazy_load\u001B[1;34m(self)\u001B[0m\n\u001B[0;32m    133\u001B[0m \u001B[38;5;28;01mtry\u001B[39;00m:\n\u001B[1;32m--> 134\u001B[0m     \u001B[38;5;28;01mwith\u001B[39;00m \u001B[38;5;28;43mopen\u001B[39;49m\u001B[43m(\u001B[49m\u001B[38;5;28;43mself\u001B[39;49m\u001B[38;5;241;43m.\u001B[39;49m\u001B[43mfile_path\u001B[49m\u001B[43m,\u001B[49m\u001B[43m \u001B[49m\u001B[43mnewline\u001B[49m\u001B[38;5;241;43m=\u001B[39;49m\u001B[38;5;124;43m\"\u001B[39;49m\u001B[38;5;124;43m\"\u001B[39;49m\u001B[43m,\u001B[49m\u001B[43m \u001B[49m\u001B[43mencoding\u001B[49m\u001B[38;5;241;43m=\u001B[39;49m\u001B[38;5;28;43mself\u001B[39;49m\u001B[38;5;241;43m.\u001B[39;49m\u001B[43mencoding\u001B[49m\u001B[43m)\u001B[49m \u001B[38;5;28;01mas\u001B[39;00m csvfile:\n\u001B[0;32m    135\u001B[0m         \u001B[38;5;28;01myield from\u001B[39;00m \u001B[38;5;28mself\u001B[39m\u001B[38;5;241m.\u001B[39m__read_file(csvfile)\n",
      "\u001B[1;31mFileNotFoundError\u001B[0m: [Errno 2] No such file or directory: './DUR_con_med.csv'",
      "\nThe above exception was the direct cause of the following exception:\n",
      "\u001B[1;31mRuntimeError\u001B[0m                              Traceback (most recent call last)",
      "Cell \u001B[1;32mIn[4], line 1\u001B[0m\n\u001B[1;32m----> 1\u001B[0m con_med_docs \u001B[38;5;241m=\u001B[39m \u001B[43mdur_con_med\u001B[49m\u001B[38;5;241;43m.\u001B[39;49m\u001B[43mload\u001B[49m\u001B[43m(\u001B[49m\u001B[43m)\u001B[49m\n\u001B[0;32m      2\u001B[0m age_docs \u001B[38;5;241m=\u001B[39m dur_age\u001B[38;5;241m.\u001B[39mload()\n\u001B[0;32m      3\u001B[0m old_docs \u001B[38;5;241m=\u001B[39m dur_old\u001B[38;5;241m.\u001B[39mload()\n",
      "File \u001B[1;32m~\\miniconda3\\envs\\dl_nlp_env\\Lib\\site-packages\\langchain_core\\document_loaders\\base.py:31\u001B[0m, in \u001B[0;36mBaseLoader.load\u001B[1;34m(self)\u001B[0m\n\u001B[0;32m     29\u001B[0m \u001B[38;5;28;01mdef\u001B[39;00m \u001B[38;5;21mload\u001B[39m(\u001B[38;5;28mself\u001B[39m) \u001B[38;5;241m-\u001B[39m\u001B[38;5;241m>\u001B[39m \u001B[38;5;28mlist\u001B[39m[Document]:\n\u001B[0;32m     30\u001B[0m \u001B[38;5;250m    \u001B[39m\u001B[38;5;124;03m\"\"\"Load data into Document objects.\"\"\"\u001B[39;00m\n\u001B[1;32m---> 31\u001B[0m     \u001B[38;5;28;01mreturn\u001B[39;00m \u001B[38;5;28;43mlist\u001B[39;49m\u001B[43m(\u001B[49m\u001B[38;5;28;43mself\u001B[39;49m\u001B[38;5;241;43m.\u001B[39;49m\u001B[43mlazy_load\u001B[49m\u001B[43m(\u001B[49m\u001B[43m)\u001B[49m\u001B[43m)\u001B[49m\n",
      "File \u001B[1;32m~\\miniconda3\\envs\\dl_nlp_env\\Lib\\site-packages\\langchain_community\\document_loaders\\csv_loader.py:151\u001B[0m, in \u001B[0;36mCSVLoader.lazy_load\u001B[1;34m(self)\u001B[0m\n\u001B[0;32m    149\u001B[0m         \u001B[38;5;28;01mraise\u001B[39;00m \u001B[38;5;167;01mRuntimeError\u001B[39;00m(\u001B[38;5;124mf\u001B[39m\u001B[38;5;124m\"\u001B[39m\u001B[38;5;124mError loading \u001B[39m\u001B[38;5;132;01m{\u001B[39;00m\u001B[38;5;28mself\u001B[39m\u001B[38;5;241m.\u001B[39mfile_path\u001B[38;5;132;01m}\u001B[39;00m\u001B[38;5;124m\"\u001B[39m) \u001B[38;5;28;01mfrom\u001B[39;00m \u001B[38;5;21;01me\u001B[39;00m\n\u001B[0;32m    150\u001B[0m \u001B[38;5;28;01mexcept\u001B[39;00m \u001B[38;5;167;01mException\u001B[39;00m \u001B[38;5;28;01mas\u001B[39;00m e:\n\u001B[1;32m--> 151\u001B[0m     \u001B[38;5;28;01mraise\u001B[39;00m \u001B[38;5;167;01mRuntimeError\u001B[39;00m(\u001B[38;5;124mf\u001B[39m\u001B[38;5;124m\"\u001B[39m\u001B[38;5;124mError loading \u001B[39m\u001B[38;5;132;01m{\u001B[39;00m\u001B[38;5;28mself\u001B[39m\u001B[38;5;241m.\u001B[39mfile_path\u001B[38;5;132;01m}\u001B[39;00m\u001B[38;5;124m\"\u001B[39m) \u001B[38;5;28;01mfrom\u001B[39;00m \u001B[38;5;21;01me\u001B[39;00m\n",
      "\u001B[1;31mRuntimeError\u001B[0m: Error loading ./DUR_con_med.csv"
     ]
    }
   ],
   "execution_count": 4
  },
  {
   "metadata": {
    "ExecuteTime": {
     "end_time": "2024-12-19T00:27:28.178523Z",
     "start_time": "2024-12-19T00:27:27.755671Z"
    }
   },
   "cell_type": "code",
   "source": [
    "import random\n",
    "con_med_docs = random.sample(con_med_docs, 100)\n",
    "age_docs = random.sample(age_docs, 100)\n",
    "old_docs = random.sample(old_docs, 100)\n",
    "pregnant_docs = random.sample(pregnant_docs, 100)"
   ],
   "id": "91db3ba182d1d205",
   "outputs": [],
   "execution_count": 20
  },
  {
   "metadata": {
    "ExecuteTime": {
     "end_time": "2024-12-19T00:27:28.211306Z",
     "start_time": "2024-12-19T00:27:28.196667Z"
    }
   },
   "cell_type": "code",
   "source": "documents = con_med_docs + age_docs + old_docs + pregnant_docs",
   "id": "5ab554b43bf0e722",
   "outputs": [],
   "execution_count": 21
  },
  {
   "metadata": {
    "ExecuteTime": {
     "end_time": "2024-12-19T00:27:28.232336Z",
     "start_time": "2024-12-19T00:27:28.226083Z"
    }
   },
   "cell_type": "code",
   "source": [
    "print(type(documents))\n",
    "print(len(documents))"
   ],
   "id": "2e8c5f936426e959",
   "outputs": [
    {
     "name": "stdout",
     "output_type": "stream",
     "text": [
      "<class 'list'>\n",
      "400\n"
     ]
    }
   ],
   "execution_count": 22
  },
  {
   "metadata": {},
   "cell_type": "markdown",
   "source": "## 임베딩 모델 생성",
   "id": "1eaf14228445b87"
  },
  {
   "metadata": {
    "ExecuteTime": {
     "end_time": "2024-12-19T00:27:29.012651Z",
     "start_time": "2024-12-19T00:27:28.273270Z"
    }
   },
   "cell_type": "code",
   "source": [
    "from langchain_openai.embeddings import OpenAIEmbeddings\n",
    "\n",
    "embeddings = OpenAIEmbeddings(model='text-embedding-3-small')"
   ],
   "id": "27f153237909d3be",
   "outputs": [],
   "execution_count": 23
  },
  {
   "metadata": {
    "ExecuteTime": {
     "end_time": "2024-12-19T00:27:29.028432Z",
     "start_time": "2024-12-19T00:27:29.023856Z"
    }
   },
   "cell_type": "code",
   "source": [
    "import os\n",
    "from langchain_pinecone import PineconeVectorStore\n",
    "\n",
    "PINECONE_INDEX_NAME = os.getenv('PINECONE_INDEX_NAME')\n",
    "PINECONE_NAMESPACE = os.getenv('PINECONE_NAMESPACE')\n",
    "PINECONE_API_KEY = os.getenv('PINECONE_API_KEY')"
   ],
   "id": "584ce19d265cf07e",
   "outputs": [],
   "execution_count": 24
  },
  {
   "metadata": {
    "ExecuteTime": {
     "end_time": "2024-12-19T00:27:29.048925Z",
     "start_time": "2024-12-19T00:27:29.044226Z"
    }
   },
   "cell_type": "code",
   "source": [
    "print(PINECONE_INDEX_NAME)\n",
    "print(PINECONE_NAMESPACE)\n",
    "print(PINECONE_API_KEY)"
   ],
   "id": "7cc1c7d52ab47297",
   "outputs": [
    {
     "name": "stdout",
     "output_type": "stream",
     "text": [
      "ai-medicine-rag\n",
      "ai-medicine-rag-ns\n",
      "pcsk_4XyuMX_5f47dcAxtKB3mkLzQbc4EfucgVHPSkZ7pikmbjCRbviWzyUBGstWunj4XTVTmaj\n"
     ]
    }
   ],
   "execution_count": 25
  },
  {
   "metadata": {},
   "cell_type": "markdown",
   "source": "## 의약품 설명(Prompt)",
   "id": "d9797f72f79c9ea2"
  },
  {
   "metadata": {
    "ExecuteTime": {
     "end_time": "2024-12-20T02:40:20.672368Z",
     "start_time": "2024-12-20T02:40:20.666025Z"
    }
   },
   "cell_type": "code",
   "source": [
    "from langchain_core.prompts import ChatPromptTemplate, HumanMessagePromptTemplate\n",
    "from langchain_openai import ChatOpenAI\n",
    "from langchain_core.output_parsers import StrOutputParser\n",
    "\n",
    "def medicine_info(query):\n",
    "    prompt = ChatPromptTemplate.from_messages([\n",
    "        ('system', '''당신은 전문 약사입니다. 사용자가 약물 성분에 대해 질문하면, 아래의 기준에 따라 친절하고 신뢰성 있는 답변을 제공합니다. 질문에 따라 적절한 세부 정보를 포함하되, 지나치게 복잡한 전문 용어는 쉽게 풀어서 설명합니다. 필요한 경우 사용자에게 추가로 주의 사항을 알려줍니다.\n",
    "\n",
    "    1. 성분명 및 기본 정보:\n",
    "    - 해당 성분의 이름(화학명 및 일반명)을 정확히 설명하세요.\n",
    "    - 이 성분이 포함된 대표적인 약물을 예로 들어 설명합니다.\n",
    "\n",
    "    2. 효능/효과:\n",
    "    - 이 성분이 치료 또는 완화에 사용되는 질환/증상을 설명합니다.\n",
    "    - 일반적인 용도를 간결하게 안내합니다.\n",
    "\n",
    "    3. 작용 기전:\n",
    "    - 이 성분이 신체에서 어떻게 작용하는지 간단히 설명합니다.\n",
    "    - 너무 복잡한 메커니즘 대신, 쉽게 이해할 수 있는 표현을 사용하세요.\n",
    "\n",
    "    4. 부작용:\n",
    "    - 일반적인 부작용(발생 가능성이 높은 증상)을 명시하세요.\n",
    "    - 드물지만 심각한 부작용도 언급하며, 발생 시 대처 방법을 알려줍니다.\n",
    "\n",
    "    5. 복용 및 주의사항:\n",
    "    - 올바른 복용 방법(용량, 시간 등)을 안내합니다.\n",
    "    - 음식, 다른 약물, 알코올 등과의 상호작용 여부를 명확히 설명합니다.\n",
    "    - 임신, 수유 중 복용 가능 여부를 포함합니다.\n",
    "\n",
    "    6. 상호작용:\n",
    "    - 이 성분이 특정 약물이나 음식과 상호작용할 가능성이 있는 경우를 설명합니다.\n",
    "\n",
    "    7. 금기 사항:\n",
    "    - 이 성분을 복용해서는 안 되는 특정 조건(알레르기, 특정 질환 등)을 명시합니다.\n",
    "\n",
    "    8. 추가 권장 사항:\n",
    "    - 사용자가 혼란스러울 수 있는 부분에 대해 명확히 하고, 필요시 의사나 약사와 상담을 권합니다.\n",
    "\n",
    "\n",
    "    예시 프롬프트\n",
    "    질문: \"이부프로펜 성분에 대해 알려주세요.\"\n",
    "\n",
    "    답변:  \n",
    "    \"안녕하세요, 저는 약사입니다. 이부프로펜에 대해 설명드릴게요.  \n",
    "    1. 성분명: 이부프로펜은 비스테로이드성 소염진통제(NSAID)로, 흔히 사용하는 진통제 및 소염제입니다.  \n",
    "    2. 효능/효과: 주로 통증 완화(두통, 치통, 생리통), 염증 완화, 발열 감소에 사용됩니다.  \n",
    "    3. 작용 기전: 이부프로펜은 체내 염증 매개 물질인 프로스타글란딘의 생성을 억제하여 통증과 염증을 줄입니다.  \n",
    "    4. 부작용 위장 장애(속 쓰림, 위염), 드물게 위궤양, 피부 발진 등이 발생할 수 있습니다.  \n",
    "    5. 복용 및 주의사항 식사 후에 복용하는 것이 좋으며, 공복에 복용하면 위장 장애를 유발할 수 있습니다.  \n",
    "    6. 상호작용: 아스피린, 와파린 같은 항응고제와 함께 복용하면 출혈 위험이 증가할 수 있으니 주의하세요.  \n",
    "    7. 금기 사항: 소화성 궤양이 있거나 NSAID에 과민반응을 보인 적이 있는 분은 복용하지 마세요.  \n",
    "    8. 추가 권장 사항: 복용 중 이상 증상이 나타나면 즉시 의사나 약사와 상담하세요.\"\n",
    "\n",
    "    유의사항\n",
    "        - 약물 성분 정보는 최신 지침을 바탕으로 작성되어야 하며, 신뢰할 수 있는 데이터베이스(예: Micromedex, UpToDate, 약학정보원 등)를 활용해 근거를 제공해야 합니다.\n",
    "        - 사용자의 질문을 명확히 파악하여, 필요 이상으로 과도한 정보는 생략하고 핵심만 전달합니다.\n",
    "\n",
    "        '''),\n",
    "        ('user', '주어진 맥락에 사용하여 질문에 답변을 하되, 모르는 경우 모른다고 말하며 최대한 세문장으로 간결하게 한국말로 답변해주세요.'),\n",
    "    ])\n",
    "    prompt += HumanMessagePromptTemplate.from_template([query])\n",
    "    model = ChatOpenAI(\n",
    "        model='gpt-4o',\n",
    "        temperature=1\n",
    "    )\n",
    "    \n",
    "    output_parser = StrOutputParser()\n",
    "    \n",
    "    chain = prompt | model | output_parser\n",
    "    return chain"
   ],
   "id": "3231c261aeff2617",
   "outputs": [],
   "execution_count": 5
  },
  {
   "metadata": {
    "ExecuteTime": {
     "end_time": "2024-12-19T00:27:38.443487Z",
     "start_time": "2024-12-19T00:27:29.127687Z"
    }
   },
   "cell_type": "code",
   "source": [
    "# prompt 확인\n",
    "chain = RunnableLambda(medicine_info)\n",
    "chain.invoke({'image_url': 'https://kdpharma.co.kr/uploaded/shop_good/143/0bdcbaa6376b40dbe9c5e10c0e3b26010.jpg'})"
   ],
   "id": "a2a4597ca5259993",
   "outputs": [
    {
     "data": {
      "text/plain": [
       "'이미지에 있는 약은 아세클로페낙 성분을 포함한 것으로 보입니다. 이 약에 대해 설명드릴게요.\\n\\n1. 성분명: 아세클로페낙은 비스테로이드성 소염진통제(NSAID)입니다.\\n\\n2. 효능/효과: 주로 관절염, 골관절염, 류마티스 관절염 등의 염증성 질환에서 통증을 완화하고 염증을 줄이는 데 사용됩니다.\\n\\n3. 작용 기전: 아세클로페낙은 염증과 통증을 유발하는 화학 물질(프로스타글란딘)의 생성을 억제하여 효과를 발휘합니다.\\n\\n4. 부작용: 위장 장애(위통, 위염), 두통, 어지럼증 등이 발생할 수 있습니다. 드물게는 간 기능 이상이나 알레르기 반응이 나타날 수 있습니다.\\n\\n5. 복용 및 주의사항: 의사의 처방에 따라 복용하며, 일반적으로 식사 후에 복용하는 것이 좋습니다. 공복에 복용 시 위장 장애가 발생할 수 있습니다.\\n\\n6. 상호작용: 다른 NSAID나 항응고제(와파린 등)와 함께 복용 시 출혈 위험이 증가할 수 있습니다.\\n\\n7. 금기 사항: 아세클로페낙이나 다른 NSAID에 과민반응이 있거나, 심각한 심혈관 질환이 있는 경우에는 복용을 피해야 합니다.\\n\\n8. 추가 권장 사항: 약물 복용 중 이상 증상이 나타나면 즉시 의사나 약사와 상담하는 것이 좋습니다.\\n\\n궁금한 점이 있으면 언제든지 질문해 주세요.'"
      ]
     },
     "execution_count": 27,
     "metadata": {},
     "output_type": "execute_result"
    }
   ],
   "execution_count": 27
  },
  {
   "metadata": {},
   "cell_type": "markdown",
   "source": "## VectorDB",
   "id": "fe3e18b0eecc951a"
  },
  {
   "metadata": {
    "ExecuteTime": {
     "end_time": "2024-12-19T00:30:51.261802Z",
     "start_time": "2024-12-19T00:30:51.256293Z"
    }
   },
   "cell_type": "code",
   "source": [
    "from langchain_core.runnables import RunnableLambda\n",
    "from langchain_openai.embeddings import OpenAIEmbeddings\n",
    "from langchain_pinecone import PineconeVectorStore\n",
    "import os\n",
    "\n",
    "\n",
    "PINECONE_INDEX_NAME = os.getenv('PINECONE_INDEX_NAME')\n",
    "PINECONE_NAMESPACE = os.getenv('PINECONE_NAMESPACE')\n",
    "PINECONE_API_KEY = os.getenv('PINECONE_API_KEY')\n",
    "\n",
    "def similarity_search_medicine(query):\n",
    "\n",
    "    embeddings = OpenAIEmbeddings(model='text-embedding-3-small')\n",
    "    vector_db = PineconeVectorStore(\n",
    "        embedding=embeddings,\n",
    "        index_name=PINECONE_INDEX_NAME,\n",
    "        namespace=PINECONE_NAMESPACE,   \n",
    "        pinecone_api_key=PINECONE_API_KEY\n",
    ")\n",
    "    \n",
    "    result = vector_db.similarity_search(\n",
    "        query,\n",
    "        k=1,\n",
    "        namespace=PINECONE_NAMESPACE\n",
    "    )\n",
    "    return{\n",
    "        \"medicine_name\": query,\n",
    "        \"medicine_content\" : '\\n'.join([doc.page_content for doc in result])\n",
    "    }\n",
    "\n",
    "    "
   ],
   "id": "33e1d1716a0aab0d",
   "outputs": [],
   "execution_count": 34
  },
  {
   "metadata": {
    "ExecuteTime": {
     "end_time": "2024-12-19T00:30:55.988017Z",
     "start_time": "2024-12-19T00:30:53.353344Z"
    }
   },
   "cell_type": "code",
   "source": [
    "# vectordb 결과 확인\n",
    "chain = RunnableLambda(similarity_search_medicine)\n",
    "\n",
    "print(chain.invoke('에이서캡슐'))"
   ],
   "id": "c71f9b515f8e21c5",
   "outputs": [
    {
     "name": "stdout",
     "output_type": "stream",
     "text": [
      "{'medicine_name': '에이서캡슐', 'medicine_content': '성분명: tegafur+gimeracil+oteracil\\n성분코드: 452400ACH\\n제품코드: 649807210\\n제품명: 테고캡슐20_(1캡슐)\\n업체명: 명문제약(주)\\n고시일자: 2016-12-30\\n고시번호: 20160155\\n금기등급: 2\\n상세정보: 기형아 출산 보고.동물실험에서 태아의 내장이상, 골격이상, 화골지연 등 보고.'}\n"
     ]
    }
   ],
   "execution_count": 35
  },
  {
   "metadata": {
    "ExecuteTime": {
     "end_time": "2024-12-19T00:27:41.775801Z",
     "start_time": "2024-12-19T00:27:41.769582Z"
    }
   },
   "cell_type": "code",
   "source": [
    "# 이미지 url\n",
    "# https://kdpharma.co.kr/uploaded/shop_good/143/0bdcbaa6376b40dbe9c5e10c0e3b26010.jpg"
   ],
   "id": "ef7f41f9d4abda8c",
   "outputs": [],
   "execution_count": 30
  },
  {
   "metadata": {
    "ExecuteTime": {
     "end_time": "2024-12-19T00:30:58.352787Z",
     "start_time": "2024-12-19T00:30:58.348914Z"
    }
   },
   "cell_type": "code",
   "source": [
    "from langchain_core.runnables import RunnableLambda\n",
    "\n",
    "chain = RunnableLambda(medicine_info) | RunnableLambda(similarity_search_medicine)"
   ],
   "id": "df7d2baa481fe1af",
   "outputs": [],
   "execution_count": 36
  },
  {
   "metadata": {
    "ExecuteTime": {
     "end_time": "2024-12-19T00:31:11.862464Z",
     "start_time": "2024-12-19T00:31:00.532803Z"
    }
   },
   "cell_type": "code",
   "source": [
    "# 최종 결과 확인\n",
    "print(chain.invoke({'image_url': 'https://kdpharma.co.kr/uploaded/shop_good/143/0bdcbaa6376b40dbe9c5e10c0e3b26010.jpg'}))"
   ],
   "id": "966faae3c5fda2b8",
   "outputs": [
    {
     "name": "stdout",
     "output_type": "stream",
     "text": [
      "{'medicine_name': '안녕하세요, 이 약에 대해 설명드리겠습니다.\\n\\n1. 성분명: 이 약의 주성분은 아세클로페낙(aceclofenac)입니다.\\n\\n2. 효능/효과: 아세클로페낙은 비스테로이드성 소염진통제(NSAID)로서 염증을 줄이고 통증을 완화시키는 목적으로 사용됩니다. 류마티스 관절염, 골관절염, 그리고 강직성 척추염 등의 증상 완화에 활용됩니다.\\n\\n3. 작용 기전: 이 성분은 염증을 유발하는 프로스타글란딘의 생성을 억제하여 통증과 염증을 줄여줍니다.\\n\\n4. 부작용: 소화불량, 복통, 어지러움 등이 발생할 수 있습니다. 드물게 심각한 위장관 출혈이나 신장 및 간 기능 장애가 발생할 수 있습니다.\\n\\n5. 복용 및 주의사항: 식사와 함께 또는 직후에 복용하는 것이 좋습니다. 위장 장애가 있는 경우 주의가 필요하며, 정해진 용량을 넘기지 않도록 합니다.\\n\\n6. 상호작용: 다른 NSAID, 아스피린, 또는 항응고제와 함께 복용 시 출혈 위험이 증가할 수 있습니다.\\n\\n7. 금기 사항: 아세클로페낙에 알레르기가 있거나, 중증 심장 질환, 위궤양, 또는 중증 간 및 신장 질환이 있는 경우 복용을 피해야 합니다.\\n\\n8. 추가 권장 사항: 복용 중 이상 증상이 나타나면 즉시 의사나 약사와 상담하세요.\\n\\n질문이 더 있으시면 언제든지 문의해 주세요.', 'medicine_content': '성분명: aceclofenac\\n성분코드: 100903ATR\\n제품코드: 54800520\\n제품명: 아클페낙CR서방정(아세클로페낙)_(0.2g/1정)\\n업체명: 엔비케이제약(주)\\n고시일자: 2016-12-30\\n고시번호: 20160155\\n금기등급: 2\\n상세정보: 임부에 대한 안전성 미확립.임신 말기에 투여시 태아의 동맥관조기폐쇄 가능성.동물실험에서 비스테로이드성 소염진통제는 난산발생빈도 증가, 분만지연, 태아 생존율 감소 보고.임신 약 20주 이후 비스테로이드성 소염제의 사용은 태아의 신기능 이상을 일으켜 양수 과소증 유발 가능 및 경우에 따라 신생아 신장애 발생 가능'}\n"
     ]
    }
   ],
   "execution_count": 37
  }
 ],
 "metadata": {
  "kernelspec": {
   "display_name": "Python 3",
   "language": "python",
   "name": "python3"
  },
  "language_info": {
   "codemirror_mode": {
    "name": "ipython",
    "version": 2
   },
   "file_extension": ".py",
   "mimetype": "text/x-python",
   "name": "python",
   "nbconvert_exporter": "python",
   "pygments_lexer": "ipython2",
   "version": "2.7.6"
  }
 },
 "nbformat": 4,
 "nbformat_minor": 5
}
